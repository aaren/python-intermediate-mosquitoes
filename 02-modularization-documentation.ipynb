{
 "metadata": {
  "name": ""
 },
 "nbformat": 3,
 "nbformat_minor": 0,
 "worksheets": [
  {
   "cells": [
    {
     "cell_type": "heading",
     "level": 1,
     "metadata": {},
     "source": [
      "Modularization and Documentation"
     ]
    },
    {
     "cell_type": "markdown",
     "metadata": {},
     "source": [
      "Now that we've covered some of the basic syntax and libraries in Python we can start to tackle our data analysis problem.\n",
      "We are interested in understanding the relationship between the weather and the number of mosquitos so that we can plan mosquito control measures.\n",
      "Since we want to apply these mosquito control measures at a number of different sites we need to understand how the relationship varies across sites.\n",
      "Remember that we have a series of CSV files with each file containing the data for a single location."
     ]
    },
    {
     "cell_type": "heading",
     "level": 2,
     "metadata": {},
     "source": [
      "Objectives"
     ]
    },
    {
     "cell_type": "markdown",
     "metadata": {},
     "source": [
      "* Write code for people, not computers\n",
      "* Break a program into chunks\n",
      "* Write and use functions in Python\n",
      "* Write useful documentation"
     ]
    },
    {
     "cell_type": "heading",
     "level": 2,
     "metadata": {},
     "source": [
      "Starting small"
     ]
    },
    {
     "cell_type": "markdown",
     "metadata": {},
     "source": [
      "When approaching computational tasks like this one it is typically best to start small,\n",
      "check each piece of code as you go,\n",
      "and make incremental changes.\n",
      "This helps avoid marathon debugging sessions\n",
      "because it's much easier to debug one small piece of the code at a time than to write 100 lines of code and\n",
      "then try to figure out all of the different bugs in it.\n",
      "\n",
      "Let's start by reading in the data from a single file and conducting a simple regression analysis on it.\n",
      "In fact, I would actually start by just importing the data and making sure that everything is coming in OK."
     ]
    },
    {
     "cell_type": "code",
     "collapsed": false,
     "input": [
      "import pandas as pd\n",
      "\n",
      "d = pd.read_csv('mosquito_data_A2.csv')\n",
      "print d"
     ],
     "language": "python",
     "metadata": {},
     "outputs": [
      {
       "output_type": "stream",
       "stream": "stdout",
       "text": [
        "    year  temperature  rainfall  mosquitos\n",
        "0   1960           76       121        125\n",
        "1   1961           80       137        135\n",
        "2   1962           85       251        216\n",
        "3   1963           86       291        244\n",
        "4   1964           87       258        226\n",
        "5   1965           74       137        130\n",
        "6   1966           75       202        180\n",
        "7   1967           80       116        118\n",
        "8   1968           85       205        187\n",
        "9   1969           74       127        126\n",
        "10  1970           74       140        134\n",
        "11  1971           81       122        128\n",
        "12  1972           76       227        199\n",
        "13  1973           85       290        247\n",
        "14  1974           75       205        186\n",
        "15  1975           76       167        157\n",
        "16  1976           89       202        189\n",
        "17  1977           88       298        254\n",
        "18  1978           81       227        200\n",
        "19  1979           80       173        160\n",
        "20  1980           83       295        248\n",
        "21  1981           81       256        219\n",
        "22  1982           90       108        119\n",
        "23  1983           73       297        244\n",
        "24  1984           90       170        160\n",
        "25  1985           82       156        153\n",
        "26  1986           84       163        156\n",
        "27  1987           76       228        194\n",
        "28  1988           82       197        177\n",
        "29  1989           85       154        150\n",
        "30  1990           83       289        243\n",
        "31  1991           88       182        172\n",
        "32  1992           88       154        151\n",
        "33  1993           83       273        234\n",
        "34  1994           76       192        173\n",
        "35  1995           84       240        209\n",
        "36  1996           76       191        170\n",
        "37  1997           73       249        210\n",
        "38  1998           81       112        120\n",
        "39  1999           78       113        118\n",
        "40  2000           81       159        148\n",
        "41  2001           87       222        198\n",
        "42  2002           72       103        105\n",
        "43  2003           77       176        166\n",
        "44  2004           89       236        210\n",
        "45  2005           88       283        242\n",
        "46  2006           89       151        147\n",
        "47  2007           71       121        117\n",
        "48  2008           88       267        232\n",
        "49  2009           85       211        191\n",
        "50  2010           75       101        106\n"
       ]
      }
     ],
     "prompt_number": 1
    },
    {
     "cell_type": "markdown",
     "metadata": {},
     "source": [
      "The import seems to be working properly, so that's good news,\n",
      "but does anyone have anyone see anything about the code that they don't like?\n",
      "\n",
      "That's right.\n",
      "The variable name I've chosen for the data doesn't really communicate any information to anyone about what it's holding,\n",
      "which means that when I come back to my code next month to change something I'm going to have a more difficult time understanding what the code is actually doing.\n",
      "This brings us to one of our first major lessons for the morning,\n",
      "which is that in order to understand what our code is doing so that we can quickly make changes in the future,\n",
      "we need to *write code for people, not computers*,\n",
      "and an important first step is to *use meaningful varible names*."
     ]
    },
    {
     "cell_type": "code",
     "collapsed": false,
     "input": [
      "import pandas as pd\n",
      "\n",
      "data = pd.read_csv('mosquito_data_A2.csv')\n",
      "print data.head()"
     ],
     "language": "python",
     "metadata": {},
     "outputs": [
      {
       "output_type": "stream",
       "stream": "stdout",
       "text": [
        "   year  temperature  rainfall  mosquitos\n",
        "0  1960           76       121        125\n",
        "1  1961           80       137        135\n",
        "2  1962           85       251        216\n",
        "3  1963           86       291        244\n",
        "4  1964           87       258        226\n"
       ]
      }
     ],
     "prompt_number": 2
    },
    {
     "cell_type": "markdown",
     "metadata": {},
     "source": [
      "The `.head()` method lets us just look at the first few rows of the data.\n",
      "A method is a function attached to an object that operates on that object.\n",
      "So in this case we can think of it as being equivalent to `head(data)`.\n",
      "\n",
      "Everything looks good,\n",
      "but either global warming has gotten *really* out of control or the temperatures are in degrees Fahrenheit.\n",
      "Let's convert them to Celcius before we get started.\n",
      "\n",
      "We don't need to reimport the data in our new cell because all of the executed cells in IPython Notebook share the same workspace.\n",
      "However, it's worth noting that if we close the notebook and then open it again it is necessary to rerun all of the individual blocks of code that a code block relies on before continuing.\n",
      "To rerun all of the cells in a notebook you can select `Cell -> Run All` from the menu."
     ]
    },
    {
     "cell_type": "code",
     "collapsed": false,
     "input": [
      "data['temperature'] = (data['temperature'] - 32) * 5 / 9.0\n",
      "print data.head()"
     ],
     "language": "python",
     "metadata": {},
     "outputs": [
      {
       "output_type": "stream",
       "stream": "stdout",
       "text": [
        "   year  temperature  rainfall  mosquitos\n",
        "0  1960    24.444444       121        125\n",
        "1  1961    26.666667       137        135\n",
        "2  1962    29.444444       251        216\n",
        "3  1963    30.000000       291        244\n",
        "4  1964    30.555556       258        226\n"
       ]
      }
     ],
     "prompt_number": 3
    },
    {
     "cell_type": "markdown",
     "metadata": {},
     "source": [
      "That's better.\n",
      "Now let's go ahead and conduct a regression on the data.\n",
      "We'll use the `statsmodels` library to conduct the regression."
     ]
    },
    {
     "cell_type": "code",
     "collapsed": false,
     "input": [
      "import statsmodels.api as sm\n",
      "\n",
      "regr_results = sm.OLS.from_formula('mosquitos ~ temperature + rainfall', data).fit()\n",
      "regr_results.summary()"
     ],
     "language": "python",
     "metadata": {},
     "outputs": [
      {
       "html": [
        "<table class=\"simpletable\">\n",
        "<caption>OLS Regression Results</caption>\n",
        "<tr>\n",
        "  <th>Dep. Variable:</th>        <td>mosquitos</td>    <th>  R-squared:         </th> <td>   0.998</td> \n",
        "</tr>\n",
        "<tr>\n",
        "  <th>Model:</th>                   <td>OLS</td>       <th>  Adj. R-squared:    </th> <td>   0.998</td> \n",
        "</tr>\n",
        "<tr>\n",
        "  <th>Method:</th>             <td>Least Squares</td>  <th>  F-statistic:       </th> <td>1.102e+04</td>\n",
        "</tr>\n",
        "<tr>\n",
        "  <th>Date:</th>             <td>Thu, 16 Jan 2014</td> <th>  Prob (F-statistic):</th> <td>1.24e-64</td> \n",
        "</tr>\n",
        "<tr>\n",
        "  <th>Time:</th>                 <td>11:27:34</td>     <th>  Log-Likelihood:    </th> <td> -108.59</td> \n",
        "</tr>\n",
        "<tr>\n",
        "  <th>No. Observations:</th>      <td>    51</td>      <th>  AIC:               </th> <td>   223.2</td> \n",
        "</tr>\n",
        "<tr>\n",
        "  <th>Df Residuals:</th>          <td>    48</td>      <th>  BIC:               </th> <td>   229.0</td> \n",
        "</tr>\n",
        "<tr>\n",
        "  <th>Df Model:</th>              <td>     2</td>      <th>                     </th>     <td> </td>    \n",
        "</tr>\n",
        "</table>\n",
        "<table class=\"simpletable\">\n",
        "<tr>\n",
        "       <td></td>          <th>coef</th>     <th>std err</th>      <th>t</th>      <th>P>|t|</th> <th>[95.0% Conf. Int.]</th> \n",
        "</tr>\n",
        "<tr>\n",
        "  <th>Intercept</th>   <td>   15.1038</td> <td>    2.648</td> <td>    5.705</td> <td> 0.000</td> <td>    9.781    20.427</td>\n",
        "</tr>\n",
        "<tr>\n",
        "  <th>temperature</th> <td>    0.8766</td> <td>    0.101</td> <td>    8.664</td> <td> 0.000</td> <td>    0.673     1.080</td>\n",
        "</tr>\n",
        "<tr>\n",
        "  <th>rainfall</th>    <td>    0.7068</td> <td>    0.005</td> <td>  137.899</td> <td> 0.000</td> <td>    0.696     0.717</td>\n",
        "</tr>\n",
        "</table>\n",
        "<table class=\"simpletable\">\n",
        "<tr>\n",
        "  <th>Omnibus:</th>       <td> 0.911</td> <th>  Durbin-Watson:     </th> <td>   1.728</td>\n",
        "</tr>\n",
        "<tr>\n",
        "  <th>Prob(Omnibus):</th> <td> 0.634</td> <th>  Jarque-Bera (JB):  </th> <td>   0.926</td>\n",
        "</tr>\n",
        "<tr>\n",
        "  <th>Skew:</th>          <td> 0.295</td> <th>  Prob(JB):          </th> <td>   0.629</td>\n",
        "</tr>\n",
        "<tr>\n",
        "  <th>Kurtosis:</th>      <td> 2.706</td> <th>  Cond. No.          </th> <td>1.86e+03</td>\n",
        "</tr>\n",
        "</table>"
       ],
       "metadata": {},
       "output_type": "pyout",
       "prompt_number": 4,
       "text": [
        "<class 'statsmodels.iolib.summary.Summary'>\n",
        "\"\"\"\n",
        "                            OLS Regression Results                            \n",
        "==============================================================================\n",
        "Dep. Variable:              mosquitos   R-squared:                       0.998\n",
        "Model:                            OLS   Adj. R-squared:                  0.998\n",
        "Method:                 Least Squares   F-statistic:                 1.102e+04\n",
        "Date:                Thu, 16 Jan 2014   Prob (F-statistic):           1.24e-64\n",
        "Time:                        11:27:34   Log-Likelihood:                -108.59\n",
        "No. Observations:                  51   AIC:                             223.2\n",
        "Df Residuals:                      48   BIC:                             229.0\n",
        "Df Model:                           2                                         \n",
        "===============================================================================\n",
        "                  coef    std err          t      P>|t|      [95.0% Conf. Int.]\n",
        "-------------------------------------------------------------------------------\n",
        "Intercept      15.1038      2.648      5.705      0.000         9.781    20.427\n",
        "temperature     0.8766      0.101      8.664      0.000         0.673     1.080\n",
        "rainfall        0.7068      0.005    137.899      0.000         0.696     0.717\n",
        "==============================================================================\n",
        "Omnibus:                        0.911   Durbin-Watson:                   1.728\n",
        "Prob(Omnibus):                  0.634   Jarque-Bera (JB):                0.926\n",
        "Skew:                           0.295   Prob(JB):                        0.629\n",
        "Kurtosis:                       2.706   Cond. No.                     1.86e+03\n",
        "==============================================================================\n",
        "\n",
        "Warnings:\n",
        "[1] The condition number is large, 1.86e+03. This might indicate that there are\n",
        "strong multicollinearity or other numerical problems.\n",
        "\"\"\""
       ]
      }
     ],
     "prompt_number": 4
    },
    {
     "cell_type": "markdown",
     "metadata": {},
     "source": [
      "As you can see `statsmodels` lets us use the names of the columns in our dataframe\n",
      "to clearly specify the form of the statistical model we want to fit.\n",
      "This also makes the code more readable since the model we are fitting is written in a nice,\n",
      "human readable, manner.\n",
      "The `summary` method gives us a visual representation of the results.\n",
      "This summary is nice to look at, but it isn't really useful for doing more computation,\n",
      "so we can look up particular values related to the regression using the `regr_results` attributes.\n",
      "These are variables that are attached to `regr_results`."
     ]
    },
    {
     "cell_type": "code",
     "collapsed": false,
     "input": [
      "print regr_results.params\n",
      "print regr_results.rsquared"
     ],
     "language": "python",
     "metadata": {},
     "outputs": [
      {
       "output_type": "stream",
       "stream": "stdout",
       "text": [
        "Intercept      15.103829\n",
        "temperature     0.876560\n",
        "rainfall        0.706780\n",
        "dtype: float64\n",
        "0.997826503814\n"
       ]
      }
     ],
     "prompt_number": 5
    },
    {
     "cell_type": "markdown",
     "metadata": {},
     "source": [
      "If we want to hold onto these values for later we can assign them to variables:"
     ]
    },
    {
     "cell_type": "code",
     "collapsed": false,
     "input": [
      "parameters = regr_results.params\n",
      "rsquared = regr_results.rsquared"
     ],
     "language": "python",
     "metadata": {},
     "outputs": [],
     "prompt_number": 6
    },
    {
     "cell_type": "markdown",
     "metadata": {},
     "source": [
      "And then we can plot the observed data against the values predicted by our regression to visualize the results.\n",
      "First, remember to tell the notebook that we want our plots to appear in the notebook itself."
     ]
    },
    {
     "cell_type": "code",
     "collapsed": false,
     "input": [
      "%matplotlib inline"
     ],
     "language": "python",
     "metadata": {},
     "outputs": [],
     "prompt_number": 7
    },
    {
     "cell_type": "code",
     "collapsed": false,
     "input": [
      "import matplotlib.pyplot as plt\n",
      "\n",
      "predicted = parameters[0] + parameters[1] * data['temperature'] + parameters[2] * data['rainfall']\n",
      "plt.plot(predicted, data['mosquitos'], 'ro')\n",
      "min_mosquitos, max_mosquitos = min(data['mosquitos']), max(data['mosquitos'])\n",
      "plt.plot([min_mosquitos, max_mosquitos], [min_mosquitos, max_mosquitos], 'k-')"
     ],
     "language": "python",
     "metadata": {},
     "outputs": [
      {
       "metadata": {},
       "output_type": "pyout",
       "prompt_number": 8,
       "text": [
        "[<matplotlib.lines.Line2D at 0x55b3e90>]"
       ]
      },
      {
       "metadata": {},
       "output_type": "display_data",
       "png": "[encoded data removed]",
       "text": [
        "<matplotlib.figure.Figure at 0x55b3ed0>"
       ]
      }
     ],
     "prompt_number": 8
    },
    {
     "cell_type": "markdown",
     "metadata": {},
     "source": [
      "OK, great.\n",
      "So putting this all together we now have a piece of code that imports the modules we need,\n",
      "loads the data into memory, fits a regression to the data,\n",
      "and stores the parameters and fit of data."
     ]
    },
    {
     "cell_type": "code",
     "collapsed": false,
     "input": [
      "import pandas as pd\n",
      "import statsmodels.api as sm\n",
      "import matplotlib.pyplot as plt\n",
      "\n",
      "data = pd.read_csv('mosquito_data_A2.csv')\n",
      "data['temperature'] = (data['temperature'] - 32) * 5 / 9.0\n",
      "regr_results = sm.OLS.from_formula('mosquitos ~ temperature + rainfall', data).fit()\n",
      "parameters = regr_results.params\n",
      "rsquared = regr_results.rsquared\n",
      "predicted = parameters[0] + parameters[1] * data['temperature'] + parameters[2] * data['rainfall']\n",
      "plt.plot(predicted, data['mosquitos'], 'ro')\n",
      "min_mosquitos, max_mosquitos = min(data['mosquitos']), max(data['mosquitos'])\n",
      "plt.plot([min_mosquitos, max_mosquitos], [min_mosquitos, max_mosquitos], 'k-')\n",
      "print parameters\n",
      "print \"R^2 = \", rsquared"
     ],
     "language": "python",
     "metadata": {},
     "outputs": [
      {
       "output_type": "stream",
       "stream": "stdout",
       "text": [
        "Intercept      15.103829\n",
        "temperature     0.876560\n",
        "rainfall        0.706780\n",
        "dtype: float64\n",
        "R^2 =  0.997826503814\n"
       ]
      },
      {
       "metadata": {},
       "output_type": "display_data",
       "png": "[encoded data removed]",
       "text": [
        "<matplotlib.figure.Figure at 0x24edf50>"
       ]
      }
     ],
     "prompt_number": 9
    },
    {
     "cell_type": "heading",
     "level": 2,
     "metadata": {},
     "source": [
      "Functions"
     ]
    },
    {
     "cell_type": "markdown",
     "metadata": {},
     "source": [
      "The next thing we need to do is loop over all of the possible data files,\n",
      "but in order to do that we're going to need to grow our code some more.\n",
      "Since our brain can only easily hold 5-7 pieces of information at once,\n",
      "and our code already has more than that many pieces,\n",
      "we need to start breaking our code into manageable sized chunks.\n",
      "This will let us read and understand the code more easily and make it easier to reuse pieces of our code.\n",
      "We'll do this using functions.\n",
      "\n",
      "Functions in Python take the general form\n",
      "\n",
      "~~~python\n",
      "def function_name(inputs):\n",
      "    do stuff\n",
      "    return output\n",
      "~~~\n",
      "\n",
      "So, if we want to write a function that returns the value of a number squared we could use:"
     ]
    },
    {
     "cell_type": "code",
     "collapsed": false,
     "input": [
      "def square(x):\n",
      "    x_squared = x ** 2\n",
      "    return x_squared\n",
      "\n",
      "print \"Four squared is\", square(4)\n",
      "print \"Five squared is\", square(5)"
     ],
     "language": "python",
     "metadata": {},
     "outputs": [
      {
       "output_type": "stream",
       "stream": "stdout",
       "text": [
        "Four squared is 16\n",
        "Five squared is 25\n"
       ]
      }
     ],
     "prompt_number": 10
    },
    {
     "cell_type": "markdown",
     "metadata": {},
     "source": [
      "We can also just return the desired value directly."
     ]
    },
    {
     "cell_type": "code",
     "collapsed": false,
     "input": [
      "def square(x):\n",
      "    return x ** 2\n",
      "\n",
      "print square(3)"
     ],
     "language": "python",
     "metadata": {},
     "outputs": [
      {
       "output_type": "stream",
       "stream": "stdout",
       "text": [
        "9\n"
       ]
      }
     ],
     "prompt_number": 11
    },
    {
     "cell_type": "markdown",
     "metadata": {},
     "source": [
      "And remember, if we want to use the result of the function later we need to store it somewhere."
     ]
    },
    {
     "cell_type": "code",
     "collapsed": false,
     "input": [
      "two_squared = square(2)\n",
      "print two_squared"
     ],
     "language": "python",
     "metadata": {},
     "outputs": [
      {
       "output_type": "stream",
       "stream": "stdout",
       "text": [
        "4\n"
       ]
      }
     ],
     "prompt_number": 12
    },
    {
     "cell_type": "heading",
     "level": 3,
     "metadata": {},
     "source": [
      "Challenges"
     ]
    },
    {
     "cell_type": "markdown",
     "metadata": {},
     "source": [
      "1\\. Write a function that converts temperature from Fahrenheit to Celcius and use it to replace\n",
      "\n",
      "~~~python\n",
      "data['temperature'] = (data['temperature'] - 32) * 5 / 9.0\n",
      "~~~\n",
      "\n",
      "in our program.\n",
      "\n",
      "2\\. Write a function called `analyze()` that takes `data` as an input, performs the regression, makes the observed-predicted plot, and returns `parameters`.\n",
      "\n",
      "*Walk through someone's result.\n",
      "When discussing talk about different names.\n",
      "E.g., fahr_to_celcius is better than temp_to_celcius since it is explicit both the input and the output.\n",
      "Talk about the fact that even though this doesn't save us any lines of code it's still easier to read.*"
     ]
    },
    {
     "cell_type": "heading",
     "level": 2,
     "metadata": {},
     "source": [
      "The call stack"
     ]
    },
    {
     "cell_type": "markdown",
     "metadata": {},
     "source": [
      "Let's take a closer look at what happens when we call fahr_to_celsius(32.0). To make things clearer, we'll start by putting the initial value 32.0 in a variable and store the final result in one as well:"
     ]
    },
    {
     "cell_type": "code",
     "collapsed": false,
     "input": [
      "def fahr_to_celsius(tempF):\n",
      "    tempC = (tempF - 32) * 5 / 9.0\n",
      "    return tempC\n",
      "\n",
      "original = 32.0\n",
      "final = fahr_to_celsius(original)"
     ],
     "language": "python",
     "metadata": {},
     "outputs": [],
     "prompt_number": 13
    },
    {
     "cell_type": "markdown",
     "metadata": {},
     "source": [
      "#### Call Stack (Initial State)\n",
      "\n",
      "When the first three lines of this function are executed the function is created,\n",
      "but nothing happens.\n",
      "The function is like a recipe,\n",
      "it contains the information about how to do something,\n",
      "but it doesn't do so until you explicitly ask it to.\n",
      "We then create the variable `original` and assign the value 32.0 to it.\n",
      "The values `tempF` and `tempC` don't currently exist. \n",
      "\n",
      "#### Call Stack Immediately After Function Call\n",
      "\n",
      "When we call `fahr_to_celsius`,\n",
      "Python creates another stack frame to hold fahr_to_celsius's variables.\n",
      "Upon creation this stack frame only includes the inputs being passed to the function,\n",
      "so in our case `tempF`.\n",
      "As the function is executed variables created by the function are stored in the functions stack frame,\n",
      "so `tempC` is created in the `fahr_to_celsius` stack frame.\n",
      "\n",
      "#### Call Stack At End Of Function Call\n",
      "\n",
      "When the call to `fahr_to_celsius` returns a value,\n",
      "Python throws away `fahr_to_celsius`'s stack frame,\n",
      "including all of the variables it contains,\n",
      "and creates a new variable\n",
      "in the original stack frame to hold the temperature in Celsius.\n",
      "\n",
      "#### Call Stack After End\n",
      "\n",
      "This final stack frame is always there;\n",
      "it holds the variables we defined outside the functions in our code.\n",
      "What it doesn't hold is the variables that were in the other stack frames.\n",
      "If we try to get the value of `tempF` or `tempC` after our functions have finished running,\n",
      "Python tells us that there's no such thing:\n"
     ]
    },
    {
     "cell_type": "code",
     "collapsed": false,
     "input": [
      "print tempC"
     ],
     "language": "python",
     "metadata": {},
     "outputs": [
      {
       "ename": "NameError",
       "evalue": "name 'tempC' is not defined",
       "output_type": "pyerr",
       "traceback": [
        "\u001b[1;31m---------------------------------------------------------------------------\u001b[0m\n\u001b[1;31mNameError\u001b[0m                                 Traceback (most recent call last)",
        "\u001b[1;32m<ipython-input-14-3054d7679e45>\u001b[0m in \u001b[0;36m<module>\u001b[1;34m()\u001b[0m\n\u001b[1;32m----> 1\u001b[1;33m \u001b[1;32mprint\u001b[0m \u001b[0mtempC\u001b[0m\u001b[1;33m\u001b[0m\u001b[0m\n\u001b[0m",
        "\u001b[1;31mNameError\u001b[0m: name 'tempC' is not defined"
       ]
      }
     ],
     "prompt_number": 14
    },
    {
     "cell_type": "markdown",
     "metadata": {},
     "source": [
      "The reason for this is encapsulation,\n",
      "and it's one of the key to writing correct, comprehensible programs.\n",
      "A function's job is to turn several operations into one so that we can think about\n",
      "a single function call instead of a dozen or a hundred statements each time we want to do something.\n",
      "That only works if functions don't interfere with each other by potentially changing the same variables;\n",
      "if they do, we have to pay attention to the details once again,\n",
      "which quickly overloads our short-term memory."
     ]
    },
    {
     "cell_type": "heading",
     "level": 2,
     "metadata": {},
     "source": [
      "Testing Functions"
     ]
    },
    {
     "cell_type": "markdown",
     "metadata": {
      "cell_tags": []
     },
     "source": [
      "Once we start putting things into functions so that we can re-use them,\n",
      "we need to start testing that those functions are working correctly.\n",
      "The most basic thing we can do is some informal testing to make sure the function is doing what it is supposed to do.\n",
      "To see how to do this, let's write a function to center the values in a dataset prior to conducting statistical analysis. \n",
      "Centering means setting the mean of each variable to be the same value, typically zero."
     ]
    },
    {
     "cell_type": "code",
     "collapsed": false,
     "input": [
      "def center(data):\n",
      "    return data - data.mean()"
     ],
     "language": "python",
     "metadata": {
      "cell_tags": []
     },
     "outputs": [],
     "prompt_number": 15
    },
    {
     "cell_type": "markdown",
     "metadata": {
      "cell_tags": []
     },
     "source": [
      "We could test this on our actual data,\n",
      "but since we don't know what the values ought to be,\n",
      "it will be hard to tell if the result was correct.\n",
      "Instead, let's create a made up data frame where we know what the result should look like."
     ]
    },
    {
     "cell_type": "code",
     "collapsed": false,
     "input": [
      "import pandas as pd\n",
      "\n",
      "test_data = pd.DataFrame([[1, 1], [1, 2]])\n",
      "print test_data"
     ],
     "language": "python",
     "metadata": {
      "cell_tags": []
     },
     "outputs": [
      {
       "output_type": "stream",
       "stream": "stdout",
       "text": [
        "   0  1\n",
        "0  1  1\n",
        "1  1  2\n"
       ]
      }
     ],
     "prompt_number": 16
    },
    {
     "cell_type": "markdown",
     "metadata": {},
     "source": [
      "Now that we've made some test data we need to figure out what we think the result should be\n",
      "and we need to do this *before* we run the test.\n",
      "This is important because we are biased to believe that any result we get back is correct,\n",
      "and we want to avoid that bias.\n",
      "This also helps make sure that we are confident in what we want the code to do.\n",
      "So, what should the result of running `center(data)` be?\n",
      "\n",
      "OK, let's go ahead and run the function."
     ]
    },
    {
     "cell_type": "code",
     "collapsed": false,
     "input": [
      "print center(test_data)"
     ],
     "language": "python",
     "metadata": {},
     "outputs": [
      {
       "output_type": "stream",
       "stream": "stdout",
       "text": [
        "   0    1\n",
        "0  0 -0.5\n",
        "1  0  0.5\n"
       ]
      }
     ],
     "prompt_number": 17
    },
    {
     "cell_type": "markdown",
     "metadata": {
      "cell_tags": []
     },
     "source": [
      "That looks right,\n",
      "so let's try `center` on our real data:"
     ]
    },
    {
     "cell_type": "code",
     "collapsed": false,
     "input": [
      "data = pd.read_csv('A2_mosquito_data.csv')\n",
      "print center(data)"
     ],
     "language": "python",
     "metadata": {
      "cell_tags": []
     },
     "outputs": [
      {
       "output_type": "stream",
       "stream": "stdout",
       "text": [
        "    year  temperature  rainfall  mosquitos\n",
        "0    -25     -5.27451       -74 -51.921569\n",
        "1    -24     -1.27451       -58 -41.921569\n",
        "2    -23      3.72549        56  39.078431\n",
        "3    -22      4.72549        96  67.078431\n",
        "4    -21      5.72549        63  49.078431\n",
        "5    -20     -7.27451       -58 -46.921569\n",
        "6    -19     -6.27451         7   3.078431\n",
        "7    -18     -1.27451       -79 -58.921569\n",
        "8    -17      3.72549        10  10.078431\n",
        "9    -16     -7.27451       -68 -50.921569\n",
        "10   -15     -7.27451       -55 -42.921569\n",
        "11   -14     -0.27451       -73 -48.921569\n",
        "12   -13     -5.27451        32  22.078431\n",
        "13   -12      3.72549        95  70.078431\n",
        "14   -11     -6.27451        10   9.078431\n",
        "15   -10     -5.27451       -28 -19.921569\n",
        "16    -9      7.72549         7  12.078431\n",
        "17    -8      6.72549       103  77.078431\n",
        "18    -7     -0.27451        32  23.078431\n",
        "19    -6     -1.27451       -22 -16.921569\n",
        "20    -5      1.72549       100  71.078431\n",
        "21    -4     -0.27451        61  42.078431\n",
        "22    -3      8.72549       -87 -57.921569\n",
        "23    -2     -8.27451       102  67.078431\n",
        "24    -1      8.72549       -25 -16.921569\n",
        "25     0      0.72549       -39 -23.921569\n",
        "26     1      2.72549       -32 -20.921569\n",
        "27     2     -5.27451        33  17.078431\n",
        "28     3      0.72549         2   0.078431\n",
        "29     4      3.72549       -41 -26.921569\n",
        "30     5      1.72549        94  66.078431\n",
        "31     6      6.72549       -13  -4.921569\n",
        "32     7      6.72549       -41 -25.921569\n",
        "33     8      1.72549        78  57.078431\n",
        "34     9     -5.27451        -3  -3.921569\n",
        "35    10      2.72549        45  32.078431\n",
        "36    11     -5.27451        -4  -6.921569\n",
        "37    12     -8.27451        54  33.078431\n",
        "38    13     -0.27451       -83 -56.921569\n",
        "39    14     -3.27451       -82 -58.921569\n",
        "40    15     -0.27451       -36 -28.921569\n",
        "41    16      5.72549        27  21.078431\n",
        "42    17     -9.27451       -92 -71.921569\n",
        "43    18     -4.27451       -19 -10.921569\n",
        "44    19      7.72549        41  33.078431\n",
        "45    20      6.72549        88  65.078431\n",
        "46    21      7.72549       -44 -29.921569\n",
        "47    22    -10.27451       -74 -59.921569\n",
        "48    23      6.72549        72  55.078431\n",
        "49    24      3.72549        16  14.078431\n",
        "50    25     -6.27451       -94 -70.921569\n"
       ]
      }
     ],
     "prompt_number": 18
    },
    {
     "cell_type": "markdown",
     "metadata": {
      "cell_tags": []
     },
     "source": [
      "It's hard to tell from the default output whether the result is correct,\n",
      "but there are a few simple tests that will reassure us:"
     ]
    },
    {
     "cell_type": "code",
     "collapsed": false,
     "input": [
      "print 'original mean:'\n",
      "print data.mean()\n",
      "centered = center(data)\n",
      "print\n",
      "print 'mean of centered data:'\n",
      "centered.mean()"
     ],
     "language": "python",
     "metadata": {
      "cell_tags": []
     },
     "outputs": [
      {
       "output_type": "stream",
       "stream": "stdout",
       "text": [
        "original mean:\n",
        "year           1985.000000\n",
        "temperature      81.274510\n",
        "rainfall        195.000000\n",
        "mosquitos       176.921569\n",
        "dtype: float64\n",
        "\n",
        "mean of centered data:\n"
       ]
      },
      {
       "metadata": {},
       "output_type": "pyout",
       "prompt_number": 19,
       "text": [
        "year           0.000000e+00\n",
        "temperature   -6.130173e-15\n",
        "rainfall       0.000000e+00\n",
        "mosquitos      1.393221e-14\n",
        "dtype: float64"
       ]
      }
     ],
     "prompt_number": 19
    },
    {
     "cell_type": "markdown",
     "metadata": {
      "cell_tags": []
     },
     "source": [
      "The mean of the centered data is very close to zero;\n",
      "it's not quite zero because of floating point precision issues.\n",
      "We can even go further and check that the standard deviation hasn't changed\n",
      "(which it shouldn't if we've just centered the data):"
     ]
    },
    {
     "cell_type": "code",
     "collapsed": false,
     "input": [
      "print 'std dev before and after:'\n",
      "print data.std()\n",
      "print\n",
      "print centered.std()"
     ],
     "language": "python",
     "metadata": {
      "cell_tags": []
     },
     "outputs": [
      {
       "output_type": "stream",
       "stream": "stdout",
       "text": [
        "std dev before and after:\n",
        "year           14.866069\n",
        "temperature     5.560858\n",
        "rainfall       60.982293\n",
        "mosquitos      44.078041\n",
        "dtype: float64\n",
        "\n",
        "year           14.866069\n",
        "temperature     5.560858\n",
        "rainfall       60.982293\n",
        "mosquitos      44.078041\n",
        "dtype: float64\n"
       ]
      }
     ],
     "prompt_number": 20
    },
    {
     "cell_type": "markdown",
     "metadata": {
      "cell_tags": []
     },
     "source": [
      "The standard deviations look the same.\n",
      "It's still possible that our function is wrong,\n",
      "but it seems unlikely enough that we we're probably in good shape for now."
     ]
    },
    {
     "cell_type": "heading",
     "level": 2,
     "metadata": {},
     "source": [
      "Documentation"
     ]
    },
    {
     "cell_type": "markdown",
     "metadata": {},
     "source": [
      "OK, the `center` function seems to be working fine.\n",
      "Does anyone else see anything that's missing before we move on?\n",
      "\n",
      "Yes, we should write some [documentation](../../gloss.html#documentation)\n",
      "to remind ourselves later what it's for and how to use it.\n",
      "This function may be fairly straightforward,\n",
      "but in most cases it won't be so easy to remember exactly what a function is doing in a few months.\n",
      "Just imagine looking at our `analyze` function a few months in the future\n",
      "and trying to remember exactly what it was doing just based on the code.\n",
      "\n",
      "The usual way to put documentation in code is to add [comments](../../gloss.html#comment) like this:"
     ]
    },
    {
     "cell_type": "code",
     "collapsed": false,
     "input": [
      "# center(data): return a new DataFrame containing the original data centered around zero.\n",
      "def center(data, desired):\n",
      "    return data - data.mean()"
     ],
     "language": "python",
     "metadata": {
      "cell_tags": []
     },
     "outputs": [],
     "prompt_number": 21
    },
    {
     "cell_type": "markdown",
     "metadata": {
      "cell_tags": []
     },
     "source": [
      "There's a better way to do this in Python.\n",
      "If the first thing in a function is a string that isn't assigned to a variable,\n",
      "that string is attached to the function as its documentation:"
     ]
    },
    {
     "cell_type": "code",
     "collapsed": false,
     "input": [
      "def center(data, desired):\n",
      "    \"\"\"Return a new DataFrame containing the original data centered around zero.\"\"\"\n",
      "    return data - data.mean()"
     ],
     "language": "python",
     "metadata": {
      "cell_tags": []
     },
     "outputs": [],
     "prompt_number": 22
    },
    {
     "cell_type": "markdown",
     "metadata": {
      "cell_tags": []
     },
     "source": [
      "This is better because we can now ask Python's built-in help system to show us the documentation for the function."
     ]
    },
    {
     "cell_type": "code",
     "collapsed": false,
     "input": [
      "help(center)"
     ],
     "language": "python",
     "metadata": {
      "cell_tags": []
     },
     "outputs": [
      {
       "output_type": "stream",
       "stream": "stdout",
       "text": [
        "Help on function center in module __main__:\n",
        "\n",
        "center(data, desired)\n",
        "    Return a new DataFrame containing the original data centered around zero.\n",
        "\n"
       ]
      }
     ],
     "prompt_number": 23
    },
    {
     "cell_type": "markdown",
     "metadata": {
      "cell_tags": []
     },
     "source": [
      "A string like this is called a [docstring](../../gloss.html#docstring)\n",
      "and there are also automatic documentation generators that use these docstrings to produce web based documentation.\n",
      "We use triple quotes because\n",
      "it allows us to include multiple lines of text and because it is considered good Python style."
     ]
    },
    {
     "cell_type": "code",
     "collapsed": false,
     "input": [
      "def center(data):\n",
      "    \"\"\"Return a new array containing the original data centered on zero\n",
      "    \n",
      "    Example:\n",
      "    >>> import pandas\n",
      "    >>> data = pandas.DataFrame([[0, 1], [0, 2])\n",
      "    >>> center(data)\n",
      "       0    1\n",
      "    0  0 -0.5\n",
      "    1  0  0.5\n",
      "\n",
      "     \n",
      "    \"\"\"\n",
      "    return data - data.mean()\n",
      "\n",
      "help(center)"
     ],
     "language": "python",
     "metadata": {
      "cell_tags": []
     },
     "outputs": [
      {
       "output_type": "stream",
       "stream": "stdout",
       "text": [
        "Help on function center in module __main__:\n",
        "\n",
        "center(data)\n",
        "    Return a new array containing the original data centered on zero\n",
        "    \n",
        "    Example:\n",
        "    >>> import pandas\n",
        "    >>> data = pandas.DataFrame([[0, 1], [0, 2])\n",
        "    >>> center(data)\n",
        "       0    1\n",
        "    0  0 -0.5\n",
        "    1  0  0.5\n",
        "\n"
       ]
      }
     ],
     "prompt_number": 24
    },
    {
     "cell_type": "heading",
     "level": 3,
     "metadata": {},
     "source": [
      "Challenge"
     ]
    },
    {
     "cell_type": "markdown",
     "metadata": {},
     "source": [
      "1. Test your temperature conversion function to make sure it's working\n",
      "   (think about some temperatures that you easily know the conversion for).\n",
      "2. Add documentation to both the temperature conversation function and the analysis function."
     ]
    },
    {
     "cell_type": "heading",
     "level": 2,
     "metadata": {},
     "source": [
      "Looping over files"
     ]
    },
    {
     "cell_type": "markdown",
     "metadata": {},
     "source": [
      "So now our code looks something like this:"
     ]
    },
    {
     "cell_type": "code",
     "collapsed": false,
     "input": [
      "import pandas as pd\n",
      "import statsmodels.api as sm\n",
      "import matplotlib.pyplot as plt\n",
      "\n",
      "def fahr_to_celsius(tempF):\n",
      "    \"\"\"Convert fahrenheit to celsius\"\"\"\n",
      "    tempC = (tempF - 32) * 5 / 9.0\n",
      "    return tempC\n",
      "\n",
      "def analyze(data):\n",
      "    \"\"\"Perform regression analysis on mosquito data\n",
      "    \n",
      "    Takes a dataframe as input that includes columns named 'temperature',\n",
      "    'rainfall', and 'mosquitos'.\n",
      "    \n",
      "    Performs a multiple regression to predict the number of mosquitos.\n",
      "    Creates an observed-predicted plot of the result and\n",
      "    returns the parameters of the regression.\n",
      "    \n",
      "    \"\"\"\n",
      "    regr_results = sm.OLS.from_formula('mosquitos ~ temperature + rainfall', data).fit()\n",
      "    parameters = regr_results.params\n",
      "    predicted = parameters[0] + parameters[1] * data['temperature'] + parameters[2] * data['rainfall']\n",
      "    plt.figure()\n",
      "    plt.plot(predicted, data['mosquitos'], 'ro')\n",
      "    min_mosquitos, max_mosquitos = min(data['mosquitos']), max(data['mosquitos'])\n",
      "    plt.plot([min_mosquitos, max_mosquitos], [min_mosquitos, max_mosquitos], 'k-')\n",
      "    return parameters\n",
      "\n",
      "data = pd.read_csv('mosquito_data_A2.csv')\n",
      "data['temperature'] = fahr_to_celsius(data['temperature'])\n",
      "regr_results = analyze(data)\n",
      "print parameters"
     ],
     "language": "python",
     "metadata": {},
     "outputs": [
      {
       "output_type": "stream",
       "stream": "stdout",
       "text": [
        "Intercept      15.103829\n",
        "temperature     0.876560\n",
        "rainfall        0.706780\n",
        "dtype: float64\n"
       ]
      },
      {
       "metadata": {},
       "output_type": "display_data",
       "png": "[encoded data removed]",
       "text": [
        "<matplotlib.figure.Figure at 0x5845cd0>"
       ]
      }
     ],
     "prompt_number": 25
    },
    {
     "cell_type": "markdown",
     "metadata": {},
     "source": [
      "Now we want to loop over all of the possible data files,\n",
      "and to do that we need to know their names.\n",
      "If we only had a dozen files we could write them all down,\n",
      "but if we have hundreds of files or the filenames change then that won't really work.\n",
      "Fortunately Python has a built in library to help us find the files we want to work with called `glob`."
     ]
    },
    {
     "cell_type": "code",
     "collapsed": false,
     "input": [
      "import glob\n",
      "\n",
      "filenames = glob.glob('*.csv')\n",
      "print filenames"
     ],
     "language": "python",
     "metadata": {},
     "outputs": [
      {
       "output_type": "stream",
       "stream": "stdout",
       "text": [
        "['datafile-01.csv', 'mosquito_data_A1.csv', 'A2_mosquito_data.csv', 'mosquito_data_examp.csv', 'A3_mosquito_data.csv', 'mosquito_data_A2.csv']\n"
       ]
      }
     ],
     "prompt_number": 26
    },
    {
     "cell_type": "markdown",
     "metadata": {},
     "source": [
      "The object returned by `glob` is a list of strings.\n",
      "A list is a Python data type that holds a group of potentially heterogenous values.\n",
      "That means it can hold pretty much anything,\n",
      "including functions."
     ]
    },
    {
     "cell_type": "code",
     "collapsed": false,
     "input": [
      "mylist = [1, 'a', center]\n",
      "print mylist"
     ],
     "language": "python",
     "metadata": {},
     "outputs": [
      {
       "output_type": "stream",
       "stream": "stdout",
       "text": [
        "[1, 'a', <function center at 0x5ae2b18>]\n"
       ]
      }
     ],
     "prompt_number": 27
    },
    {
     "cell_type": "markdown",
     "metadata": {},
     "source": [
      "In this case all of the values are strings\n",
      "that contain the names of all of the files that match the expression given to `glob`,\n",
      "so in this case all of the files with the `.csv` extension.\n",
      "\n",
      "Let's restrict the filenames a little more finely,\n",
      "so that we don't accidentally get any data we don't want,\n",
      "and print out the filenames one at a time."
     ]
    },
    {
     "cell_type": "code",
     "collapsed": false,
     "input": [
      "filenames =glob.glob('*data.csv')\n",
      "for filename in filenames:\n",
      "    print filename"
     ],
     "language": "python",
     "metadata": {},
     "outputs": [
      {
       "output_type": "stream",
       "stream": "stdout",
       "text": [
        "A2_mosquito_data.csv\n",
        "A3_mosquito_data.csv\n"
       ]
      }
     ],
     "prompt_number": 28
    },
    {
     "cell_type": "heading",
     "level": 3,
     "metadata": {},
     "source": [
      "Challenge"
     ]
    },
    {
     "cell_type": "markdown",
     "metadata": {},
     "source": [
      "Modify your code to loop over all of the files in your directory,\n",
      "making an observed-predicted plot for each file and printing the parameters."
     ]
    }
   ],
   "metadata": {}
  }
 ]
}